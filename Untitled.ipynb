{
 "cells": [
  {
   "cell_type": "code",
   "execution_count": 1,
   "id": "00f60593",
   "metadata": {},
   "outputs": [],
   "source": [
    "import pandas as pd\n",
    "import numpy as np\n",
    "from sklearn.ensemble import RandomForestRegressor\n",
    "from sklearn.metrics import mean_squared_error, r2_score\n",
    "import plotly.express as px\n",
    "import matplotlib.pyplot as plt"
   ]
  },
  {
   "cell_type": "code",
   "execution_count": 5,
   "id": "bd357418",
   "metadata": {},
   "outputs": [
    {
     "data": {
      "text/html": [
       "<div>\n",
       "<style scoped>\n",
       "    .dataframe tbody tr th:only-of-type {\n",
       "        vertical-align: middle;\n",
       "    }\n",
       "\n",
       "    .dataframe tbody tr th {\n",
       "        vertical-align: top;\n",
       "    }\n",
       "\n",
       "    .dataframe thead th {\n",
       "        text-align: right;\n",
       "    }\n",
       "</style>\n",
       "<table border=\"1\" class=\"dataframe\">\n",
       "  <thead>\n",
       "    <tr style=\"text-align: right;\">\n",
       "      <th></th>\n",
       "      <th>Unnamed: 0</th>\n",
       "      <th>BTC-USD.Open</th>\n",
       "      <th>BTC-USD.High</th>\n",
       "      <th>BTC-USD.Low</th>\n",
       "      <th>BTC-USD.Close</th>\n",
       "      <th>BTC-USD.Volume</th>\n",
       "      <th>BTC-USD.Adjusted</th>\n",
       "    </tr>\n",
       "  </thead>\n",
       "  <tbody>\n",
       "    <tr>\n",
       "      <th>0</th>\n",
       "      <td>1</td>\n",
       "      <td>387.427002</td>\n",
       "      <td>391.378998</td>\n",
       "      <td>380.779999</td>\n",
       "      <td>383.614990</td>\n",
       "      <td>26229400.0</td>\n",
       "      <td>383.614990</td>\n",
       "    </tr>\n",
       "    <tr>\n",
       "      <th>1</th>\n",
       "      <td>2</td>\n",
       "      <td>383.988007</td>\n",
       "      <td>385.497009</td>\n",
       "      <td>372.946014</td>\n",
       "      <td>375.071991</td>\n",
       "      <td>21777700.0</td>\n",
       "      <td>375.071991</td>\n",
       "    </tr>\n",
       "    <tr>\n",
       "      <th>2</th>\n",
       "      <td>3</td>\n",
       "      <td>375.181000</td>\n",
       "      <td>377.695007</td>\n",
       "      <td>357.859009</td>\n",
       "      <td>359.511993</td>\n",
       "      <td>30901200.0</td>\n",
       "      <td>359.511993</td>\n",
       "    </tr>\n",
       "    <tr>\n",
       "      <th>3</th>\n",
       "      <td>4</td>\n",
       "      <td>359.891998</td>\n",
       "      <td>364.487000</td>\n",
       "      <td>325.885986</td>\n",
       "      <td>328.865997</td>\n",
       "      <td>47236500.0</td>\n",
       "      <td>328.865997</td>\n",
       "    </tr>\n",
       "    <tr>\n",
       "      <th>4</th>\n",
       "      <td>5</td>\n",
       "      <td>328.915985</td>\n",
       "      <td>341.800995</td>\n",
       "      <td>289.295990</td>\n",
       "      <td>320.510010</td>\n",
       "      <td>83308096.0</td>\n",
       "      <td>320.510010</td>\n",
       "    </tr>\n",
       "  </tbody>\n",
       "</table>\n",
       "</div>"
      ],
      "text/plain": [
       "   Unnamed: 0  BTC-USD.Open  BTC-USD.High  BTC-USD.Low  BTC-USD.Close  \\\n",
       "0           1    387.427002    391.378998   380.779999     383.614990   \n",
       "1           2    383.988007    385.497009   372.946014     375.071991   \n",
       "2           3    375.181000    377.695007   357.859009     359.511993   \n",
       "3           4    359.891998    364.487000   325.885986     328.865997   \n",
       "4           5    328.915985    341.800995   289.295990     320.510010   \n",
       "\n",
       "   BTC-USD.Volume  BTC-USD.Adjusted  \n",
       "0      26229400.0        383.614990  \n",
       "1      21777700.0        375.071991  \n",
       "2      30901200.0        359.511993  \n",
       "3      47236500.0        328.865997  \n",
       "4      83308096.0        320.510010  "
      ]
     },
     "execution_count": 5,
     "metadata": {},
     "output_type": "execute_result"
    }
   ],
   "source": [
    "# Get historical price data\n",
    "data = pd.read_csv('BTC_data.csv')\n",
    "data.head()\n"
   ]
  }
 ],
 "metadata": {
  "kernelspec": {
   "display_name": "Python 3",
   "language": "python",
   "name": "python3"
  },
  "language_info": {
   "codemirror_mode": {
    "name": "ipython",
    "version": 3
   },
   "file_extension": ".py",
   "mimetype": "text/x-python",
   "name": "python",
   "nbconvert_exporter": "python",
   "pygments_lexer": "ipython3",
   "version": "3.8.8"
  }
 },
 "nbformat": 4,
 "nbformat_minor": 5
}
